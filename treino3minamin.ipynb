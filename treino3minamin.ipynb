{
 "cells": [
  {
   "cell_type": "code",
   "execution_count": 21,
   "metadata": {},
   "outputs": [],
   "source": [
    "import requests\n",
    "import pandas as pd\n",
    "from datetime import datetime\n",
    "import time"
   ]
  },
  {
   "cell_type": "code",
   "execution_count": 30,
   "metadata": {},
   "outputs": [
    {
     "name": "stdout",
     "output_type": "stream",
     "text": [
      "Cotação atualizada 2024-05-14 23:38:18.268405\n"
     ]
    }
   ],
   "source": [
    "#treino samuk\n",
    "#range(1) cria um loop de quantas vezes eu quero fazer as requisições do valor das cotações (poderia ser qualquer outro valor )\n",
    "for i in range(1):\n",
    "    # o site awesomeapi.com fornece este link para fazer as requisições \n",
    "    requisicao = requests.get(\"http://economia.awesomeapi.com.br/last/USD-BRL,EUR-BRL,BTC-BRL\")\n",
    "    #convertendo as requisições em um formato json\n",
    "    requisicao_dic = requisicao.json()\n",
    "    #buscando no arquivo json as cotações de cada moeda \n",
    "    dolar = requisicao_dic[\"USDBRL\"][\"bid\"]\n",
    "    euro = requisicao_dic[\"EURBRL\"][\"bid\"]\n",
    "    bitcoin = requisicao_dic[\"BTCBRL\"][\"bid\"]\n",
    "    \n",
    "    #testando o acesso ao arquivo em xlsx(excel) para salvar as informações\n",
    "    try:\n",
    "        tabela = pd.read_excel('Cotações.xlsx')\n",
    "    except FileNotFoundError:\n",
    "        # Se o arquivo não existir, criar um DataFrame vazio\n",
    "        tabela = pd.DataFrame(columns=['Moeda', 'Cotação', 'Data Última Atualização'])\n",
    "    \n",
    "    # Adicionar as colunas\n",
    "    tabela.loc[0,'Cotação'] = float(dolar)\n",
    "    tabela.loc[1,'Cotação'] = float(euro)\n",
    "    tabela.loc[2,'Cotação'] = float(bitcoin)*1000\n",
    "    tabela.loc[3,'Data Última Atualização'] = datetime.now()\n",
    "    \n",
    "    # Salvar o DataFrame de volta no arquivo Excel\n",
    "    tabela.to_excel(\"Cotações.xlsx\",index=False)\n",
    "    print(f'Cotação atualizada {datetime.now()}')\n",
    "    #De quanto em quanto tempo sera feita a requisição no site(poderia ser qualquer outro valor)\n",
    "    time.sleep(30)"
   ]
  },
  {
   "cell_type": "code",
   "execution_count": null,
   "metadata": {},
   "outputs": [],
   "source": []
  }
 ],
 "metadata": {
  "kernelspec": {
   "display_name": "Python 3",
   "language": "python",
   "name": "python3"
  },
  "language_info": {
   "codemirror_mode": {
    "name": "ipython",
    "version": 3
   },
   "file_extension": ".py",
   "mimetype": "text/x-python",
   "name": "python",
   "nbconvert_exporter": "python",
   "pygments_lexer": "ipython3",
   "version": "3.11.2"
  }
 },
 "nbformat": 4,
 "nbformat_minor": 2
}
