{
 "cells": [
  {
   "cell_type": "code",
   "execution_count": 4,
   "metadata": {},
   "outputs": [
    {
     "name": "stdout",
     "output_type": "stream",
     "text": [
      "                         NOME SERVIDOR          CPF\n",
      "0             ABNER XAVIER DE SIQUEIRA  10365582743\n",
      "1         ADRIANA DOS SANTOS FERNANDES   1262445701\n",
      "2             ADRIANA DOS SANTOS SILVA   3132151700\n",
      "3              ADRIANA FONSECA SANTANA   5588917723\n",
      "4                      ADRIANA MARTINS   4297488760\n",
      "..                                 ...          ...\n",
      "852        ZELIA RODRIGUES DA SILVEIRA          NaN\n",
      "853      ZELINDA LIMA COSTA DA FONSECA          NaN\n",
      "854  ZENAIDE MARIA NASCIMENTO DA SILVA          NaN\n",
      "855             ZENIR DOS SANTOS SILVA          NaN\n",
      "856             ZILDA DE SOUZA DA MATA          NaN\n",
      "\n",
      "[857 rows x 2 columns]\n"
     ]
    }
   ],
   "source": [
    "import pandas as pd\n",
    "import pyautogui\n",
    "\n",
    "df = pd.read_csv('CÓDIGO-DO-CONVÊNIO_-21075-GOVERNO-DO-RIO-DE-JANEIRO-_2_.csv')\n",
    "\n",
    "df = df.apply(lambda x: x.str.strip() if x.dtype == \"object\" else x )\n",
    "\n",
    "dados = df[[\"NOME SERVIDOR\",\"CPF\"]]\n",
    "\n",
    "print(dados)\n"
   ]
  },
  {
   "cell_type": "code",
   "execution_count": null,
   "metadata": {},
   "outputs": [],
   "source": []
  }
 ],
 "metadata": {
  "kernelspec": {
   "display_name": "Python 3",
   "language": "python",
   "name": "python3"
  },
  "language_info": {
   "codemirror_mode": {
    "name": "ipython",
    "version": 3
   },
   "file_extension": ".py",
   "mimetype": "text/x-python",
   "name": "python",
   "nbconvert_exporter": "python",
   "pygments_lexer": "ipython3",
   "version": "3.11.2"
  }
 },
 "nbformat": 4,
 "nbformat_minor": 2
}
